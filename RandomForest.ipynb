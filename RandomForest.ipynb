{
 "cells": [
  {
   "cell_type": "markdown",
   "metadata": {},
   "source": [
    "# Random Forest"
   ]
  },
  {
   "cell_type": "markdown",
   "metadata": {},
   "source": [
    "## Setup"
   ]
  },
  {
   "cell_type": "code",
   "execution_count": 1,
   "metadata": {},
   "outputs": [
    {
     "name": "stdout",
     "output_type": "stream",
     "text": [
      "x_test shape: (4398, 20083)\n",
      "x_train shape: (2400, 20083)\n",
      "x_val shape: (600, 20083)\n",
      "y_train shape: (2400,)\n",
      "y_val shape: (600,)\n"
     ]
    }
   ],
   "source": [
    "import numpy as np\n",
    "from sklearn.model_selection import train_test_split\n",
    "from sklearn.ensemble import RandomForestRegressor\n",
    "from sklearn.metrics import mean_squared_log_error\n",
    "\n",
    "data = np.load('./dataset/preprocessed.npz')\n",
    "x_train_whole = data['train_x']\n",
    "y_train_whole = data['train_y']\n",
    "x_test = data['test_x']\n",
    "\n",
    "# set nan to 0\n",
    "x_train_whole[np.isnan(x_train_whole)] = 0\n",
    "x_test[np.isnan(x_test)] = 0\n",
    "\n",
    "x_train, x_val, y_train, y_val = train_test_split(x_train_whole, y_train_whole, test_size=0.2)\n",
    "\n",
    "print('x_test shape:', x_test.shape)\n",
    "print('x_train shape:', x_train.shape)\n",
    "print('x_val shape:', x_val.shape)\n",
    "print('y_train shape:', y_train.shape)\n",
    "print('y_val shape:', y_val.shape)"
   ]
  },
  {
   "cell_type": "markdown",
   "metadata": {},
   "source": [
    "## Training and Validation"
   ]
  },
  {
   "cell_type": "code",
   "execution_count": 8,
   "metadata": {},
   "outputs": [
    {
     "name": "stdout",
     "output_type": "stream",
     "text": [
      "Feature importances:  [5.53089753e-01 1.38294419e-01 4.02775243e-02 ... 0.00000000e+00\n",
      " 0.00000000e+00 5.11576374e-07]\n",
      "Train set score:  1.8624725525605823\n",
      "Validation set score:  2.109640402162157\n"
     ]
    }
   ],
   "source": [
    "forest = RandomForestRegressor(\n",
    "    n_estimators=125,\n",
    "    criterion='mse',\n",
    "    max_depth=None,\n",
    "    min_samples_split=2,\n",
    "    min_samples_leaf=1,\n",
    "    min_weight_fraction_leaf=0.0,\n",
    "    max_features='auto',\n",
    "    max_leaf_nodes=None,\n",
    "    min_impurity_decrease=0.0,\n",
    "    min_impurity_split=None,\n",
    "    bootstrap=True,\n",
    "    oob_score=False,\n",
    "    n_jobs=None,\n",
    "    random_state=None,\n",
    "    verbose=0,\n",
    "    warm_start=False\n",
    ")\n",
    "\n",
    "forest.fit(x_train[:,1:], y_train) # skip id\n",
    "print('Feature importances: ', forest.feature_importances_)\n",
    "\n",
    "y_pred_train = forest.predict(x_train[:,1:])\n",
    "y_pred_train = np.clip(y_pred_train, 0.0, None) # set lower limit to 0 to avoid log error\n",
    "train_score = np.sqrt(mean_squared_log_error(y_train, y_pred_train))\n",
    "print('Train set score: ', train_score)\n",
    "\n",
    "y_pred_val = forest.predict(x_val[:,1:])\n",
    "y_pred_val = np.clip(y_pred_val, 0.0, None)\n",
    "val_score = np.sqrt(mean_squared_log_error(y_val, y_pred_val))\n",
    "print('Validation set score: ', val_score)\n",
    "\n",
    "del forest"
   ]
  },
  {
   "cell_type": "markdown",
   "metadata": {},
   "source": [
    "## Export test output"
   ]
  },
  {
   "cell_type": "code",
   "execution_count": 21,
   "metadata": {},
   "outputs": [
    {
     "name": "stdout",
     "output_type": "stream",
     "text": [
      "Feature importances:  [5.53407557e-01 1.39469179e-01 3.53911931e-02 ... 0.00000000e+00\n",
      " 0.00000000e+00 1.39687282e-06]\n",
      "Train set score:  1.8320865020150159\n",
      "file saved\n"
     ]
    }
   ],
   "source": [
    "forest = RandomForestRegressor(\n",
    "    n_estimators=125,\n",
    "    criterion='mse',\n",
    "    max_depth=None,\n",
    "    min_samples_split=2,\n",
    "    min_samples_leaf=1,\n",
    "    min_weight_fraction_leaf=0.0,\n",
    "    max_features='auto',\n",
    "    max_leaf_nodes=None,\n",
    "    min_impurity_decrease=0.0,\n",
    "    min_impurity_split=None,\n",
    "    bootstrap=True,\n",
    "    oob_score=False,\n",
    "    n_jobs=None,\n",
    "    random_state=None,\n",
    "    verbose=0,\n",
    "    warm_start=False\n",
    ")\n",
    "\n",
    "forest.fit(x_train_whole[:,1:], y_train_whole) # skip id\n",
    "print('Feature importances: ', forest.feature_importances_)\n",
    "\n",
    "y_pred_train_whole = forest.predict(x_train_whole[:,1:])\n",
    "y_pred_train_whole = np.clip(y_pred_train_whole, 0.0, None) # set lower limit to 0 to avoid log error\n",
    "train_score = np.sqrt(mean_squared_log_error(y_train_whole, y_pred_train_whole))\n",
    "print('Train set score: ', train_score)\n",
    "\n",
    "y_pred_test = forest.predict(x_test[:,1:])\n",
    "output =np.concatenate((x_test[:,0].reshape(-1,1), y_pred_test.reshape(-1,1)), axis=1)\n",
    "np.savetxt('./test_out_randomforest.csv', output, header='id,revenue', delimiter=',', fmt='%i', comments='')\n",
    "print('file saved')"
   ]
  }
 ],
 "metadata": {
  "kernelspec": {
   "display_name": "Python 3",
   "language": "python",
   "name": "python3"
  },
  "language_info": {
   "codemirror_mode": {
    "name": "ipython",
    "version": 3
   },
   "file_extension": ".py",
   "mimetype": "text/x-python",
   "name": "python",
   "nbconvert_exporter": "python",
   "pygments_lexer": "ipython3",
   "version": "3.7.3"
  }
 },
 "nbformat": 4,
 "nbformat_minor": 2
}
