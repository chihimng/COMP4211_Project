{
 "cells": [
  {
   "cell_type": "markdown",
   "metadata": {},
   "source": [
    "# Model\n",
    "\n",
    "## Setup"
   ]
  },
  {
   "cell_type": "code",
   "execution_count": 1,
   "metadata": {},
   "outputs": [
    {
     "name": "stdout",
     "output_type": "stream",
     "text": [
      "train_x shape: torch.Size([3000, 20083])\n",
      "train_y shape: torch.Size([3000])\n",
      "test_x shape: torch.Size([4398, 20083])\n"
     ]
    }
   ],
   "source": [
    "import numpy as np\n",
    "import torch\n",
    "import torch.utils.data\n",
    "import torch.nn as nn\n",
    "from tensorboardX import SummaryWriter\n",
    "\n",
    "data = np.load('./dataset/preprocessed.npz')\n",
    "train_x = torch.from_numpy(data['train_x']).float()\n",
    "train_y = torch.from_numpy(data['train_y']).float()\n",
    "test_x = torch.from_numpy(data['test_x']).float()\n",
    "\n",
    "train_len = int(len(train_x) * 0.8)\n",
    "eval_len = len(train_x) - train_len\n",
    "train_data, eval_data = torch.utils.data.random_split(\n",
    "    torch.utils.data.TensorDataset(train_x, train_y),\n",
    "    [train_len, eval_len]\n",
    ")\n",
    "test_data = torch.utils.data.TensorDataset(test_x)\n",
    "\n",
    "print('train_x shape:', train_x.shape)\n",
    "print('train_y shape:', train_y.shape)\n",
    "print('test_x shape:', test_x.shape)"
   ]
  },
  {
   "cell_type": "markdown",
   "metadata": {},
   "source": [
    "## Define Model"
   ]
  },
  {
   "cell_type": "code",
   "execution_count": 44,
   "metadata": {},
   "outputs": [],
   "source": [
    "class Model(nn.Module):\n",
    "    def __init__(self):\n",
    "        super(Model, self).__init__()\n",
    "        self.net = nn.Sequential(\n",
    "            nn.Linear(in_features=20082, out_features=8192),\n",
    "            nn.ReLU(),\n",
    "            nn.Dropout(p=0.5),\n",
    "            nn.Linear(in_features=8192, out_features=2048),\n",
    "            nn.ReLU(),\n",
    "            nn.Dropout(p=0.5),\n",
    "            nn.Linear(in_features=2048, out_features=512),\n",
    "            nn.ReLU(),\n",
    "            nn.Dropout(p=0.5),\n",
    "            nn.Linear(in_features=512, out_features=128),\n",
    "            nn.ReLU(),\n",
    "            nn.Dropout(p=0.5),\n",
    "            nn.Linear(in_features=128, out_features=1),\n",
    "            nn.ReLU()\n",
    "        )\n",
    "        self.loss_func = nn.MSELoss()\n",
    "        \n",
    "    def forward(self, in_data):\n",
    "        in_data[torch.isnan(in_data)] = 0 # set nan to 0\n",
    "        pred = self.net(in_data[:,1:]) # skip id\n",
    "        return pred\n",
    "\n",
    "    def loss(self, pred, truth):\n",
    "        loss = torch.sqrt(self.loss_func(torch.log1p(pred), torch.log1p(truth))) #RMSLE\n",
    "        return loss"
   ]
  },
  {
   "cell_type": "markdown",
   "metadata": {},
   "source": [
    "## Runner function"
   ]
  },
  {
   "cell_type": "code",
   "execution_count": 45,
   "metadata": {},
   "outputs": [],
   "source": [
    "def run(model, loaders, optimizer, writer, num_epoch=10, device='cpu'):\n",
    "    def run_epoch(mode):\n",
    "        epoch_loss = 0.0\n",
    "        for i, batch in enumerate(loaders[mode], 0):\n",
    "            in_data, truth = batch\n",
    "            in_data, truth = in_data.to(device), truth.to(device)\n",
    "\n",
    "            if mode == 'train':\n",
    "                optimizer.zero_grad()\n",
    "\n",
    "            pred = model(in_data)\n",
    "            batch_loss = model.loss(pred, truth)\n",
    "            \n",
    "\n",
    "            epoch_loss += batch_loss.item()\n",
    "            if mode == 'train':\n",
    "                batch_loss.backward()\n",
    "                optimizer.step()\n",
    "\n",
    "        # sum of all batchs / num of batches\n",
    "        epoch_loss /= i + 1\n",
    "        print('epoch %d %s loss %.4f' % (epoch, mode, epoch_loss))\n",
    "        # log to tensorboard\n",
    "        if not (writer is None):\n",
    "            writer.add_scalars('%s_loss' % model.__class__.__name__,\n",
    "                         tag_scalar_dict={mode: epoch_loss}, \n",
    "                         global_step=epoch)\n",
    "    for epoch in range(num_epoch):\n",
    "        run_epoch('train')\n",
    "        run_epoch('eval')"
   ]
  },
  {
   "cell_type": "markdown",
   "metadata": {},
   "source": [
    "## Training"
   ]
  },
  {
   "cell_type": "code",
   "execution_count": 46,
   "metadata": {},
   "outputs": [
    {
     "name": "stdout",
     "output_type": "stream",
     "text": [
      "epoch 0 train loss 6.9072\n",
      "epoch 0 eval loss 5.4217\n",
      "epoch 1 train loss 4.7072\n",
      "epoch 1 eval loss 4.3277\n",
      "epoch 2 train loss 4.0016\n",
      "epoch 2 eval loss 3.8220\n",
      "epoch 3 train loss 3.6754\n",
      "epoch 3 eval loss 3.6627\n",
      "epoch 4 train loss 3.5177\n",
      "epoch 4 eval loss 3.5070\n",
      "epoch 5 train loss 3.3969\n",
      "epoch 5 eval loss 3.4733\n",
      "epoch 6 train loss 3.3783\n",
      "epoch 6 eval loss 3.3725\n",
      "epoch 7 train loss 3.3577\n",
      "epoch 7 eval loss 3.4255\n",
      "epoch 8 train loss 3.3098\n",
      "epoch 8 eval loss 3.4242\n",
      "epoch 9 train loss 3.3238\n",
      "epoch 9 eval loss 3.4065\n"
     ]
    }
   ],
   "source": [
    "model = Model()\n",
    "optimizer = torch.optim.Adam(model.parameters(), lr=1e-3)\n",
    "run(\n",
    "    model=model,\n",
    "    loaders={\n",
    "        'train': torch.utils.data.DataLoader(train_data, batch_size=128, shuffle=True),\n",
    "        'eval': torch.utils.data.DataLoader(eval_data, batch_size=128, shuffle=True)\n",
    "    },\n",
    "    optimizer=optimizer, \n",
    "    writer=SummaryWriter('./logs/'), \n",
    "    num_epoch=10, \n",
    "    device='cpu'\n",
    ")"
   ]
  },
  {
   "cell_type": "markdown",
   "metadata": {},
   "source": [
    "## Export test output"
   ]
  },
  {
   "cell_type": "code",
   "execution_count": 61,
   "metadata": {},
   "outputs": [
    {
     "name": "stdout",
     "output_type": "stream",
     "text": [
      "test loss:  16.116472244262695\n"
     ]
    }
   ],
   "source": [
    "test_pred_tensor = model(test_x)\n",
    "print('test loss: ', model.loss(test_pred_tensor, test_x).item())\n",
    "test_pred = test_pred_tensor.detach().cpu().numpy()\n",
    "output = np.concatenate((np.expand_dims(data['test_x'][:,0], axis=1), test_pred), axis=1)\n",
    "np.savetxt('./test_out.csv', output, header='id,revenue', delimiter=',', fmt='%i', comments='')"
   ]
  }
 ],
 "metadata": {
  "kernelspec": {
   "display_name": "Python 3",
   "language": "python",
   "name": "python3"
  },
  "language_info": {
   "codemirror_mode": {
    "name": "ipython",
    "version": 3
   },
   "file_extension": ".py",
   "mimetype": "text/x-python",
   "name": "python",
   "nbconvert_exporter": "python",
   "pygments_lexer": "ipython3",
   "version": "3.6.7"
  }
 },
 "nbformat": 4,
 "nbformat_minor": 2
}
