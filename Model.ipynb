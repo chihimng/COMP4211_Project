{
 "cells": [
  {
   "cell_type": "markdown",
   "metadata": {},
   "source": [
    "# Model\n",
    "\n",
    "## Setup"
   ]
  },
  {
   "cell_type": "code",
   "execution_count": 33,
   "metadata": {},
   "outputs": [
    {
     "name": "stdout",
     "output_type": "stream",
     "text": [
      "train_x shape: torch.Size([3000, 20083])\n",
      "train_y shape: torch.Size([3000])\n",
      "test_x shape: torch.Size([4398, 20083])\n"
     ]
    }
   ],
   "source": [
    "import numpy as np\n",
    "import torch\n",
    "import torch.utils.data\n",
    "import torch.nn as nn\n",
    "from tensorboardX import SummaryWriter\n",
    "\n",
    "data = np.load('./dataset/preprocessed.npz')\n",
    "train_x = torch.from_numpy(data['train_x']).float()\n",
    "train_y = torch.from_numpy(data['train_y']).float()\n",
    "test_x = torch.from_numpy(data['test_x']).float()\n",
    "\n",
    "train_len = int(len(train_x) * 0.8)\n",
    "eval_len = len(train_x) - train_len\n",
    "train_data, eval_data = torch.utils.data.random_split(\n",
    "    torch.utils.data.TensorDataset(train_x, train_y),\n",
    "    [train_len, eval_len]\n",
    ")\n",
    "test_data = torch.utils.data.TensorDataset(test_x)\n",
    "\n",
    "print('train_x shape:', train_x.shape)\n",
    "print('train_y shape:', train_y.shape)\n",
    "print('test_x shape:', test_x.shape)"
   ]
  },
  {
   "cell_type": "markdown",
   "metadata": {},
   "source": [
    "## Define Model"
   ]
  },
  {
   "cell_type": "code",
   "execution_count": 34,
   "metadata": {},
   "outputs": [],
   "source": [
    "class Model(nn.Module):\n",
    "    def __init__(self):\n",
    "        super(Model, self).__init__()\n",
    "        self.net = nn.Sequential(\n",
    "            nn.Linear(in_features=20082, out_features=8192),\n",
    "            nn.SELU(),\n",
    "            nn.Dropout(p=0.5),\n",
    "            nn.Linear(in_features=8192, out_features=4096),\n",
    "            nn.SELU(),\n",
    "            nn.Dropout(p=0.5),\n",
    "            nn.Linear(in_features=4096, out_features=2048),\n",
    "            nn.SELU(),\n",
    "            nn.Dropout(p=0.5),\n",
    "            nn.Linear(in_features=2048, out_features=1024),\n",
    "            nn.SELU(),\n",
    "            nn.Dropout(p=0.5),\n",
    "            nn.Linear(in_features=1024, out_features=512),\n",
    "            nn.SELU(),\n",
    "            nn.Dropout(p=0.5),\n",
    "            nn.Linear(in_features=512, out_features=256),\n",
    "            nn.SELU(),\n",
    "            nn.Dropout(p=0.5),\n",
    "            nn.Linear(in_features=256, out_features=128),\n",
    "            nn.SELU(),\n",
    "            nn.Dropout(p=0.5),\n",
    "            nn.Linear(in_features=128, out_features=1),\n",
    "            nn.ReLU() # force output to be non-neg\n",
    "        )\n",
    "        self.loss_func = nn.MSELoss()\n",
    "        \n",
    "    def forward(self, in_data):\n",
    "        in_data[torch.isnan(in_data)] = 0 # set nan to 0\n",
    "        pred = self.net(in_data[:,1:]) # skip id\n",
    "        return pred\n",
    "\n",
    "    def loss(self, pred, truth):\n",
    "        loss = torch.sqrt(self.loss_func(torch.log1p(pred), torch.log1p(truth))) #RMSLE\n",
    "        return loss"
   ]
  },
  {
   "cell_type": "markdown",
   "metadata": {},
   "source": [
    "## Runner function"
   ]
  },
  {
   "cell_type": "code",
   "execution_count": 35,
   "metadata": {},
   "outputs": [],
   "source": [
    "def run(model, loaders, optimizer, writer, num_epoch=10, device='cpu'):\n",
    "    def run_epoch(mode):\n",
    "        epoch_loss = 0.0\n",
    "        for i, batch in enumerate(loaders[mode], 0):\n",
    "            in_data, truth = batch\n",
    "            in_data, truth = in_data.to(device), truth.to(device)\n",
    "\n",
    "            if mode == 'train':\n",
    "                optimizer.zero_grad()\n",
    "\n",
    "            pred = model(in_data)\n",
    "            batch_loss = model.loss(pred, truth)\n",
    "            \n",
    "\n",
    "            epoch_loss += batch_loss.item()\n",
    "            if mode == 'train':\n",
    "                batch_loss.backward()\n",
    "                optimizer.step()\n",
    "\n",
    "        # sum of all batchs / num of batches\n",
    "        epoch_loss /= i + 1\n",
    "        print('epoch %d %s loss %.4f' % (epoch, mode, epoch_loss))\n",
    "        # log to tensorboard\n",
    "        if not (writer is None):\n",
    "            writer.add_scalars('%s_loss' % model.__class__.__name__,\n",
    "                         tag_scalar_dict={mode: epoch_loss}, \n",
    "                         global_step=epoch)\n",
    "    for epoch in range(num_epoch):\n",
    "        run_epoch('train')\n",
    "        run_epoch('eval')"
   ]
  },
  {
   "cell_type": "markdown",
   "metadata": {},
   "source": [
    "## Training"
   ]
  },
  {
   "cell_type": "code",
   "execution_count": null,
   "metadata": {},
   "outputs": [
    {
     "name": "stdout",
     "output_type": "stream",
     "text": [
      "epoch 0 train loss 5.2022\n",
      "epoch 0 eval loss 3.5275\n",
      "epoch 1 train loss 3.3281\n",
      "epoch 1 eval loss 3.4802\n"
     ]
    }
   ],
   "source": [
    "model = Model()\n",
    "optimizer = torch.optim.Adam(model.parameters(), lr=1e-3, betas=(0.9, 0.999))\n",
    "run(\n",
    "    model=model,\n",
    "    loaders={\n",
    "        'train': torch.utils.data.DataLoader(train_data, batch_size=64, shuffle=True),\n",
    "        'eval': torch.utils.data.DataLoader(eval_data, batch_size=64, shuffle=True)\n",
    "    },\n",
    "    optimizer=optimizer, \n",
    "    writer=SummaryWriter('./logs/'), \n",
    "    num_epoch=20, \n",
    "    device='cpu'\n",
    ")"
   ]
  },
  {
   "cell_type": "markdown",
   "metadata": {},
   "source": [
    "## Export test output"
   ]
  },
  {
   "cell_type": "code",
   "execution_count": 63,
   "metadata": {},
   "outputs": [
    {
     "name": "stdout",
     "output_type": "stream",
     "text": [
      "file saved\n"
     ]
    }
   ],
   "source": [
    "test_pred_tensor = model(test_x)\n",
    "test_pred = test_pred_tensor.detach().cpu().numpy()\n",
    "output = np.concatenate((np.expand_dims(data['test_x'][:,0], axis=1), test_pred), axis=1)\n",
    "np.savetxt('./test_out.csv', output, header='id,revenue', delimiter=',', fmt='%i', comments='')\n",
    "print('file saved')"
   ]
  }
 ],
 "metadata": {
  "kernelspec": {
   "display_name": "Python 3",
   "language": "python",
   "name": "python3"
  },
  "language_info": {
   "codemirror_mode": {
    "name": "ipython",
    "version": 3
   },
   "file_extension": ".py",
   "mimetype": "text/x-python",
   "name": "python",
   "nbconvert_exporter": "python",
   "pygments_lexer": "ipython3",
   "version": "3.6.7"
  }
 },
 "nbformat": 4,
 "nbformat_minor": 2
}
