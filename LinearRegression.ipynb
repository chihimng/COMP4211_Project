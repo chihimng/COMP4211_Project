{
 "cells": [
  {
   "cell_type": "markdown",
   "metadata": {},
   "source": [
    "# Linear Regression"
   ]
  },
  {
   "cell_type": "markdown",
   "metadata": {},
   "source": [
    "## Setup"
   ]
  },
  {
   "cell_type": "code",
   "execution_count": 15,
   "metadata": {},
   "outputs": [
    {
     "name": "stdout",
     "output_type": "stream",
     "text": [
      "x_test shape: (4398, 20083)\n",
      "x_train shape: (600, 20083)\n",
      "x_val shape: (2400, 20083)\n",
      "y_train shape: (600,)\n",
      "y_val shape: (2400,)\n"
     ]
    }
   ],
   "source": [
    "import numpy as np\n",
    "from sklearn.model_selection import train_test_split\n",
    "from sklearn.linear_model import LinearRegression\n",
    "from sklearn.metrics import mean_squared_log_error\n",
    "\n",
    "data = np.load('./dataset/preprocessed.npz')\n",
    "x_test = data['test_x']\n",
    "\n",
    "x_train, x_val, y_train, y_val = train_test_split(data['train_x'], data['train_y'], test_size=0.8)\n",
    "\n",
    "# set nan to 0\n",
    "x_train[np.isnan(x_train)] = 0\n",
    "x_val[np.isnan(x_val)] = 0\n",
    "x_test[np.isnan(x_test)] = 0\n",
    "\n",
    "print('x_test shape:', x_test.shape)\n",
    "print('x_train shape:', x_train.shape)\n",
    "print('x_val shape:', x_val.shape)\n",
    "print('y_train shape:', y_train.shape)\n",
    "print('y_val shape:', y_val.shape)"
   ]
  },
  {
   "cell_type": "markdown",
   "metadata": {},
   "source": [
    "## Training and Validation"
   ]
  },
  {
   "cell_type": "code",
   "execution_count": 16,
   "metadata": {},
   "outputs": [
    {
     "name": "stdout",
     "output_type": "stream",
     "text": [
      "coefficients:  [ 2.03154430e+00  2.52439595e+06  3.83191678e+05 ...  0.00000000e+00\n",
      "  0.00000000e+00 -3.26152330e+06]\n",
      "intercept: -45929961.741368145\n",
      "Train set score in :  0.03460831379965524\n",
      "Validation set score:  7.0201769999284975\n"
     ]
    }
   ],
   "source": [
    "reg = LinearRegression().fit(x_train[:,1:], y_train)\n",
    "print('coefficients: ', reg.coef_)\n",
    "print('intercept:', reg.intercept_)\n",
    "\n",
    "y_pred_train = reg.predict(x_train[:,1:])\n",
    "y_pred_train = np.clip(y_pred_train, 0.0, None) # set lower limit to 0 to avoid log error\n",
    "train_score = np.sqrt(mean_squared_log_error(y_train, y_pred_train))\n",
    "print('Train set score in : ', train_score)\n",
    "\n",
    "y_pred_val = reg.predict(x_val[:,1:])\n",
    "y_pred_val = np.clip(y_pred_val, 0.0, None)\n",
    "val_score = np.sqrt(mean_squared_log_error(y_val, y_pred_val))\n",
    "print('Validation set score: ', val_score)"
   ]
  },
  {
   "cell_type": "markdown",
   "metadata": {},
   "source": [
    "## Export test output\n",
    "Skipped\n",
    "\n",
    "*This model will not be sumbitted as the validation results are significantly worse than Feedforward NN*"
   ]
  }
 ],
 "metadata": {
  "kernelspec": {
   "display_name": "Python 3",
   "language": "python",
   "name": "python3"
  },
  "language_info": {
   "codemirror_mode": {
    "name": "ipython",
    "version": 3
   },
   "file_extension": ".py",
   "mimetype": "text/x-python",
   "name": "python",
   "nbconvert_exporter": "python",
   "pygments_lexer": "ipython3",
   "version": "3.7.3"
  }
 },
 "nbformat": 4,
 "nbformat_minor": 2
}
